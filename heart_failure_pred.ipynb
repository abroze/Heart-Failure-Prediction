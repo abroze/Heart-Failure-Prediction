{
 "cells": [
  {
   "attachments": {},
   "cell_type": "markdown",
   "metadata": {},
   "source": [
    "# **Import Libraries**"
   ]
  },
  {
   "cell_type": "code",
   "execution_count": 329,
   "metadata": {},
   "outputs": [],
   "source": [
    "import numpy as np\n",
    "import pandas as pd\n",
    "import matplotlib.pyplot as plt\n",
    "import seaborn as sns\n",
    "\n",
    "from sklearn.svm import SVC\n",
    "from sklearn.metrics import classification_report\n",
    "from sklearn.metrics import confusion_matrix\n",
    "from sklearn.model_selection import GridSearchCV\n",
    "from sklearn.model_selection import train_test_split"
   ]
  },
  {
   "attachments": {},
   "cell_type": "markdown",
   "metadata": {},
   "source": [
    "# **Import Data**"
   ]
  },
  {
   "cell_type": "code",
   "execution_count": 330,
   "metadata": {},
   "outputs": [],
   "source": [
    "hf = pd.read_csv('heart_failure_data/heart_failure_clinical_records_dataset.csv')"
   ]
  },
  {
   "attachments": {},
   "cell_type": "markdown",
   "metadata": {},
   "source": [
    "**Print Features & Target Variable**"
   ]
  },
  {
   "cell_type": "code",
   "execution_count": 331,
   "metadata": {},
   "outputs": [
    {
     "name": "stdout",
     "output_type": "stream",
     "text": [
      "Features: \n",
      " ['age' 'anaemia' 'creatinine_phosphokinase' 'diabetes' 'ejection_fraction'\n",
      " 'high_blood_pressure' 'platelets' 'serum_creatinine' 'serum_sodium' 'sex'\n",
      " 'smoking' 'time'] \n",
      "\n",
      "Target variable: \n",
      " DEATH_EVENT\n"
     ]
    }
   ],
   "source": [
    "print(\"Features: \\n\", np.array(hf.columns[:-1]), \"\\n\")\n",
    "print(\"Target variable: \\n\", hf.columns[-1])"
   ]
  },
  {
   "attachments": {},
   "cell_type": "markdown",
   "metadata": {},
   "source": [
    "# **Split and Normalize the Data**"
   ]
  },
  {
   "cell_type": "code",
   "execution_count": 332,
   "metadata": {},
   "outputs": [],
   "source": [
    "# split the data in training and testing set (20%)\n",
    "hf_train, hf_test = train_test_split(hf, test_size=0.2, random_state=25)\n",
    "\n",
    "# split training and testing data into X and y\n",
    "X_train, y_train = hf_train.iloc[:,:-1], hf_train.iloc[:,-1]\n",
    "X_test, y_test = hf_test.iloc[:,:-1], hf_test.iloc[:,-1]\n",
    "\n",
    "# normalize data using mean normalization\n",
    "X_train = (X_train - X_train.mean())/X_train.std()\n",
    "X_test = (X_test - X_test.mean())/X_test.std()"
   ]
  },
  {
   "attachments": {},
   "cell_type": "markdown",
   "metadata": {},
   "source": [
    "# **Construct Model**"
   ]
  },
  {
   "cell_type": "code",
   "execution_count": 333,
   "metadata": {},
   "outputs": [],
   "source": [
    "model = SVC(kernel='rbf', class_weight='balanced')"
   ]
  },
  {
   "attachments": {},
   "cell_type": "markdown",
   "metadata": {},
   "source": [
    "**Prepare the parameters for a GridSearch**"
   ]
  },
  {
   "cell_type": "code",
   "execution_count": 334,
   "metadata": {},
   "outputs": [],
   "source": [
    "param_grid = {'C': [0.001, 0.01, 0.1, 1, 5, 10],\n",
    "              'gamma': [10, 5, 1, 0.5, 0.1, 0.05, 0.01, 0.001, 0.0001]}"
   ]
  },
  {
   "attachments": {},
   "cell_type": "markdown",
   "metadata": {},
   "source": [
    "**Run GridSearch**"
   ]
  },
  {
   "cell_type": "code",
   "execution_count": 335,
   "metadata": {},
   "outputs": [
    {
     "name": "stdout",
     "output_type": "stream",
     "text": [
      "Fitting 5 folds for each of 54 candidates, totalling 270 fits\n",
      "[CV] END ..................................C=0.001, gamma=10; total time=   0.0s\n",
      "[CV] END ..................................C=0.001, gamma=10; total time=   0.0s\n",
      "[CV] END ..................................C=0.001, gamma=10; total time=   0.0s\n",
      "[CV] END ..................................C=0.001, gamma=10; total time=   0.0s\n",
      "[CV] END ..................................C=0.001, gamma=10; total time=   0.0s\n",
      "[CV] END ...................................C=0.001, gamma=5; total time=   0.0s\n",
      "[CV] END ...................................C=0.001, gamma=5; total time=   0.0s\n",
      "[CV] END ...................................C=0.001, gamma=5; total time=   0.0s\n",
      "[CV] END ...................................C=0.001, gamma=5; total time=   0.0s\n",
      "[CV] END ...................................C=0.001, gamma=5; total time=   0.0s\n",
      "[CV] END ...................................C=0.001, gamma=1; total time=   0.0s\n",
      "[CV] END ...................................C=0.001, gamma=1; total time=   0.0s\n",
      "[CV] END ...................................C=0.001, gamma=1; total time=   0.0s\n",
      "[CV] END ...................................C=0.001, gamma=1; total time=   0.0s\n",
      "[CV] END ...................................C=0.001, gamma=1; total time=   0.0s\n",
      "[CV] END .................................C=0.001, gamma=0.5; total time=   0.0s\n",
      "[CV] END .................................C=0.001, gamma=0.5; total time=   0.0s\n",
      "[CV] END .................................C=0.001, gamma=0.5; total time=   0.0s\n",
      "[CV] END .................................C=0.001, gamma=0.5; total time=   0.0s\n",
      "[CV] END .................................C=0.001, gamma=0.5; total time=   0.0s\n",
      "[CV] END .................................C=0.001, gamma=0.1; total time=   0.0s\n",
      "[CV] END .................................C=0.001, gamma=0.1; total time=   0.0s\n",
      "[CV] END .................................C=0.001, gamma=0.1; total time=   0.0s\n",
      "[CV] END .................................C=0.001, gamma=0.1; total time=   0.0s\n",
      "[CV] END .................................C=0.001, gamma=0.1; total time=   0.0s\n",
      "[CV] END ................................C=0.001, gamma=0.05; total time=   0.0s\n",
      "[CV] END ................................C=0.001, gamma=0.05; total time=   0.0s\n",
      "[CV] END ................................C=0.001, gamma=0.05; total time=   0.0s\n",
      "[CV] END ................................C=0.001, gamma=0.05; total time=   0.0s\n",
      "[CV] END ................................C=0.001, gamma=0.05; total time=   0.0s\n",
      "[CV] END ................................C=0.001, gamma=0.01; total time=   0.0s\n",
      "[CV] END ................................C=0.001, gamma=0.01; total time=   0.0s\n",
      "[CV] END ................................C=0.001, gamma=0.01; total time=   0.0s\n",
      "[CV] END ................................C=0.001, gamma=0.01; total time=   0.0s\n",
      "[CV] END ................................C=0.001, gamma=0.01; total time=   0.0s\n",
      "[CV] END ...............................C=0.001, gamma=0.001; total time=   0.0s\n",
      "[CV] END ...............................C=0.001, gamma=0.001; total time=   0.0s\n",
      "[CV] END ...............................C=0.001, gamma=0.001; total time=   0.0s\n",
      "[CV] END ...............................C=0.001, gamma=0.001; total time=   0.0s\n",
      "[CV] END ...............................C=0.001, gamma=0.001; total time=   0.0s\n",
      "[CV] END ..............................C=0.001, gamma=0.0001; total time=   0.0s\n",
      "[CV] END ..............................C=0.001, gamma=0.0001; total time=   0.0s\n",
      "[CV] END ..............................C=0.001, gamma=0.0001; total time=   0.0s\n",
      "[CV] END ..............................C=0.001, gamma=0.0001; total time=   0.0s\n",
      "[CV] END ..............................C=0.001, gamma=0.0001; total time=   0.0s\n",
      "[CV] END ...................................C=0.01, gamma=10; total time=   0.0s\n",
      "[CV] END ...................................C=0.01, gamma=10; total time=   0.0s\n",
      "[CV] END ...................................C=0.01, gamma=10; total time=   0.0s\n",
      "[CV] END ...................................C=0.01, gamma=10; total time=   0.0s\n",
      "[CV] END ...................................C=0.01, gamma=10; total time=   0.0s\n",
      "[CV] END ....................................C=0.01, gamma=5; total time=   0.0s\n",
      "[CV] END ....................................C=0.01, gamma=5; total time=   0.0s\n",
      "[CV] END ....................................C=0.01, gamma=5; total time=   0.0s\n",
      "[CV] END ....................................C=0.01, gamma=5; total time=   0.0s\n",
      "[CV] END ....................................C=0.01, gamma=5; total time=   0.0s\n",
      "[CV] END ....................................C=0.01, gamma=1; total time=   0.0s\n",
      "[CV] END ....................................C=0.01, gamma=1; total time=   0.0s\n",
      "[CV] END ....................................C=0.01, gamma=1; total time=   0.0s\n",
      "[CV] END ....................................C=0.01, gamma=1; total time=   0.0s\n",
      "[CV] END ....................................C=0.01, gamma=1; total time=   0.0s\n",
      "[CV] END ..................................C=0.01, gamma=0.5; total time=   0.0s\n",
      "[CV] END ..................................C=0.01, gamma=0.5; total time=   0.0s\n",
      "[CV] END ..................................C=0.01, gamma=0.5; total time=   0.0s\n",
      "[CV] END ..................................C=0.01, gamma=0.5; total time=   0.0s\n",
      "[CV] END ..................................C=0.01, gamma=0.5; total time=   0.0s\n",
      "[CV] END ..................................C=0.01, gamma=0.1; total time=   0.0s\n",
      "[CV] END ..................................C=0.01, gamma=0.1; total time=   0.0s\n",
      "[CV] END ..................................C=0.01, gamma=0.1; total time=   0.0s\n",
      "[CV] END ..................................C=0.01, gamma=0.1; total time=   0.0s\n",
      "[CV] END ..................................C=0.01, gamma=0.1; total time=   0.0s\n",
      "[CV] END .................................C=0.01, gamma=0.05; total time=   0.0s\n",
      "[CV] END .................................C=0.01, gamma=0.05; total time=   0.0s\n",
      "[CV] END .................................C=0.01, gamma=0.05; total time=   0.0s\n",
      "[CV] END .................................C=0.01, gamma=0.05; total time=   0.0s\n",
      "[CV] END .................................C=0.01, gamma=0.05; total time=   0.0s\n",
      "[CV] END .................................C=0.01, gamma=0.01; total time=   0.0s\n",
      "[CV] END .................................C=0.01, gamma=0.01; total time=   0.0s\n",
      "[CV] END .................................C=0.01, gamma=0.01; total time=   0.0s\n",
      "[CV] END .................................C=0.01, gamma=0.01; total time=   0.0s\n",
      "[CV] END .................................C=0.01, gamma=0.01; total time=   0.0s\n",
      "[CV] END ................................C=0.01, gamma=0.001; total time=   0.0s\n",
      "[CV] END ................................C=0.01, gamma=0.001; total time=   0.0s\n",
      "[CV] END ................................C=0.01, gamma=0.001; total time=   0.0s\n",
      "[CV] END ................................C=0.01, gamma=0.001; total time=   0.0s\n",
      "[CV] END ................................C=0.01, gamma=0.001; total time=   0.0s\n",
      "[CV] END ...............................C=0.01, gamma=0.0001; total time=   0.0s\n",
      "[CV] END ...............................C=0.01, gamma=0.0001; total time=   0.0s\n",
      "[CV] END ...............................C=0.01, gamma=0.0001; total time=   0.0s\n",
      "[CV] END ...............................C=0.01, gamma=0.0001; total time=   0.0s\n",
      "[CV] END ...............................C=0.01, gamma=0.0001; total time=   0.0s\n",
      "[CV] END ....................................C=0.1, gamma=10; total time=   0.0s\n",
      "[CV] END ....................................C=0.1, gamma=10; total time=   0.0s\n",
      "[CV] END ....................................C=0.1, gamma=10; total time=   0.0s\n",
      "[CV] END ....................................C=0.1, gamma=10; total time=   0.0s\n",
      "[CV] END ....................................C=0.1, gamma=10; total time=   0.0s\n",
      "[CV] END .....................................C=0.1, gamma=5; total time=   0.0s\n",
      "[CV] END .....................................C=0.1, gamma=5; total time=   0.0s\n",
      "[CV] END .....................................C=0.1, gamma=5; total time=   0.0s\n",
      "[CV] END .....................................C=0.1, gamma=5; total time=   0.0s\n",
      "[CV] END .....................................C=0.1, gamma=5; total time=   0.0s\n",
      "[CV] END .....................................C=0.1, gamma=1; total time=   0.0s\n",
      "[CV] END .....................................C=0.1, gamma=1; total time=   0.0s\n",
      "[CV] END .....................................C=0.1, gamma=1; total time=   0.0s\n",
      "[CV] END .....................................C=0.1, gamma=1; total time=   0.0s\n",
      "[CV] END .....................................C=0.1, gamma=1; total time=   0.0s\n",
      "[CV] END ...................................C=0.1, gamma=0.5; total time=   0.0s\n",
      "[CV] END ...................................C=0.1, gamma=0.5; total time=   0.0s\n",
      "[CV] END ...................................C=0.1, gamma=0.5; total time=   0.0s\n",
      "[CV] END ...................................C=0.1, gamma=0.5; total time=   0.0s\n",
      "[CV] END ...................................C=0.1, gamma=0.5; total time=   0.0s\n",
      "[CV] END ...................................C=0.1, gamma=0.1; total time=   0.0s\n",
      "[CV] END ...................................C=0.1, gamma=0.1; total time=   0.0s\n",
      "[CV] END ...................................C=0.1, gamma=0.1; total time=   0.0s\n",
      "[CV] END ...................................C=0.1, gamma=0.1; total time=   0.0s\n",
      "[CV] END ...................................C=0.1, gamma=0.1; total time=   0.0s\n",
      "[CV] END ..................................C=0.1, gamma=0.05; total time=   0.0s\n",
      "[CV] END ..................................C=0.1, gamma=0.05; total time=   0.0s\n",
      "[CV] END ..................................C=0.1, gamma=0.05; total time=   0.0s\n",
      "[CV] END ..................................C=0.1, gamma=0.05; total time=   0.0s\n",
      "[CV] END ..................................C=0.1, gamma=0.05; total time=   0.0s\n",
      "[CV] END ..................................C=0.1, gamma=0.01; total time=   0.0s\n",
      "[CV] END ..................................C=0.1, gamma=0.01; total time=   0.0s\n",
      "[CV] END ..................................C=0.1, gamma=0.01; total time=   0.0s\n",
      "[CV] END ..................................C=0.1, gamma=0.01; total time=   0.0s\n",
      "[CV] END ..................................C=0.1, gamma=0.01; total time=   0.0s\n",
      "[CV] END .................................C=0.1, gamma=0.001; total time=   0.0s\n",
      "[CV] END .................................C=0.1, gamma=0.001; total time=   0.0s\n",
      "[CV] END .................................C=0.1, gamma=0.001; total time=   0.0s\n",
      "[CV] END .................................C=0.1, gamma=0.001; total time=   0.0s\n",
      "[CV] END .................................C=0.1, gamma=0.001; total time=   0.0s\n",
      "[CV] END ................................C=0.1, gamma=0.0001; total time=   0.0s\n",
      "[CV] END ................................C=0.1, gamma=0.0001; total time=   0.0s\n",
      "[CV] END ................................C=0.1, gamma=0.0001; total time=   0.0s\n",
      "[CV] END ................................C=0.1, gamma=0.0001; total time=   0.0s\n",
      "[CV] END ................................C=0.1, gamma=0.0001; total time=   0.0s\n",
      "[CV] END ......................................C=1, gamma=10; total time=   0.0s\n",
      "[CV] END ......................................C=1, gamma=10; total time=   0.0s\n",
      "[CV] END ......................................C=1, gamma=10; total time=   0.0s\n",
      "[CV] END ......................................C=1, gamma=10; total time=   0.0s\n",
      "[CV] END ......................................C=1, gamma=10; total time=   0.0s\n",
      "[CV] END .......................................C=1, gamma=5; total time=   0.0s\n",
      "[CV] END .......................................C=1, gamma=5; total time=   0.0s\n",
      "[CV] END .......................................C=1, gamma=5; total time=   0.0s\n",
      "[CV] END .......................................C=1, gamma=5; total time=   0.0s\n",
      "[CV] END .......................................C=1, gamma=5; total time=   0.0s\n",
      "[CV] END .......................................C=1, gamma=1; total time=   0.0s\n",
      "[CV] END .......................................C=1, gamma=1; total time=   0.0s\n",
      "[CV] END .......................................C=1, gamma=1; total time=   0.0s\n",
      "[CV] END .......................................C=1, gamma=1; total time=   0.0s\n",
      "[CV] END .......................................C=1, gamma=1; total time=   0.0s\n",
      "[CV] END .....................................C=1, gamma=0.5; total time=   0.0s\n",
      "[CV] END .....................................C=1, gamma=0.5; total time=   0.0s\n",
      "[CV] END .....................................C=1, gamma=0.5; total time=   0.0s\n",
      "[CV] END .....................................C=1, gamma=0.5; total time=   0.0s\n",
      "[CV] END .....................................C=1, gamma=0.5; total time=   0.0s\n",
      "[CV] END .....................................C=1, gamma=0.1; total time=   0.0s\n",
      "[CV] END .....................................C=1, gamma=0.1; total time=   0.0s\n",
      "[CV] END .....................................C=1, gamma=0.1; total time=   0.0s\n",
      "[CV] END .....................................C=1, gamma=0.1; total time=   0.0s\n",
      "[CV] END .....................................C=1, gamma=0.1; total time=   0.0s\n",
      "[CV] END ....................................C=1, gamma=0.05; total time=   0.0s\n",
      "[CV] END ....................................C=1, gamma=0.05; total time=   0.0s\n",
      "[CV] END ....................................C=1, gamma=0.05; total time=   0.0s\n",
      "[CV] END ....................................C=1, gamma=0.05; total time=   0.0s\n",
      "[CV] END ....................................C=1, gamma=0.05; total time=   0.0s\n",
      "[CV] END ....................................C=1, gamma=0.01; total time=   0.0s\n",
      "[CV] END ....................................C=1, gamma=0.01; total time=   0.0s\n",
      "[CV] END ....................................C=1, gamma=0.01; total time=   0.0s\n",
      "[CV] END ....................................C=1, gamma=0.01; total time=   0.0s\n",
      "[CV] END ....................................C=1, gamma=0.01; total time=   0.0s\n",
      "[CV] END ...................................C=1, gamma=0.001; total time=   0.0s\n",
      "[CV] END ...................................C=1, gamma=0.001; total time=   0.0s\n",
      "[CV] END ...................................C=1, gamma=0.001; total time=   0.0s\n",
      "[CV] END ...................................C=1, gamma=0.001; total time=   0.0s\n",
      "[CV] END ...................................C=1, gamma=0.001; total time=   0.0s\n",
      "[CV] END ..................................C=1, gamma=0.0001; total time=   0.0s\n",
      "[CV] END ..................................C=1, gamma=0.0001; total time=   0.0s\n",
      "[CV] END ..................................C=1, gamma=0.0001; total time=   0.0s\n",
      "[CV] END ..................................C=1, gamma=0.0001; total time=   0.0s\n",
      "[CV] END ..................................C=1, gamma=0.0001; total time=   0.0s\n",
      "[CV] END ......................................C=5, gamma=10; total time=   0.0s\n",
      "[CV] END ......................................C=5, gamma=10; total time=   0.0s\n",
      "[CV] END ......................................C=5, gamma=10; total time=   0.0s\n",
      "[CV] END ......................................C=5, gamma=10; total time=   0.0s\n",
      "[CV] END ......................................C=5, gamma=10; total time=   0.0s\n",
      "[CV] END .......................................C=5, gamma=5; total time=   0.0s\n",
      "[CV] END .......................................C=5, gamma=5; total time=   0.0s\n",
      "[CV] END .......................................C=5, gamma=5; total time=   0.0s\n",
      "[CV] END .......................................C=5, gamma=5; total time=   0.0s\n",
      "[CV] END .......................................C=5, gamma=5; total time=   0.0s\n",
      "[CV] END .......................................C=5, gamma=1; total time=   0.0s\n",
      "[CV] END .......................................C=5, gamma=1; total time=   0.0s\n",
      "[CV] END .......................................C=5, gamma=1; total time=   0.0s\n",
      "[CV] END .......................................C=5, gamma=1; total time=   0.0s\n",
      "[CV] END .......................................C=5, gamma=1; total time=   0.0s\n",
      "[CV] END .....................................C=5, gamma=0.5; total time=   0.0s\n",
      "[CV] END .....................................C=5, gamma=0.5; total time=   0.0s\n",
      "[CV] END .....................................C=5, gamma=0.5; total time=   0.0s\n",
      "[CV] END .....................................C=5, gamma=0.5; total time=   0.0s\n",
      "[CV] END .....................................C=5, gamma=0.5; total time=   0.0s\n",
      "[CV] END .....................................C=5, gamma=0.1; total time=   0.0s\n",
      "[CV] END .....................................C=5, gamma=0.1; total time=   0.0s\n",
      "[CV] END .....................................C=5, gamma=0.1; total time=   0.0s\n",
      "[CV] END .....................................C=5, gamma=0.1; total time=   0.0s\n",
      "[CV] END .....................................C=5, gamma=0.1; total time=   0.0s\n",
      "[CV] END ....................................C=5, gamma=0.05; total time=   0.0s\n",
      "[CV] END ....................................C=5, gamma=0.05; total time=   0.0s\n",
      "[CV] END ....................................C=5, gamma=0.05; total time=   0.0s\n",
      "[CV] END ....................................C=5, gamma=0.05; total time=   0.0s\n",
      "[CV] END ....................................C=5, gamma=0.05; total time=   0.0s\n",
      "[CV] END ....................................C=5, gamma=0.01; total time=   0.0s\n",
      "[CV] END ....................................C=5, gamma=0.01; total time=   0.0s\n",
      "[CV] END ....................................C=5, gamma=0.01; total time=   0.0s\n",
      "[CV] END ....................................C=5, gamma=0.01; total time=   0.0s\n",
      "[CV] END ....................................C=5, gamma=0.01; total time=   0.0s\n",
      "[CV] END ...................................C=5, gamma=0.001; total time=   0.0s\n",
      "[CV] END ...................................C=5, gamma=0.001; total time=   0.0s\n",
      "[CV] END ...................................C=5, gamma=0.001; total time=   0.0s\n",
      "[CV] END ...................................C=5, gamma=0.001; total time=   0.0s\n",
      "[CV] END ...................................C=5, gamma=0.001; total time=   0.0s\n",
      "[CV] END ..................................C=5, gamma=0.0001; total time=   0.0s\n",
      "[CV] END ..................................C=5, gamma=0.0001; total time=   0.0s\n",
      "[CV] END ..................................C=5, gamma=0.0001; total time=   0.0s\n",
      "[CV] END ..................................C=5, gamma=0.0001; total time=   0.0s\n",
      "[CV] END ..................................C=5, gamma=0.0001; total time=   0.0s\n",
      "[CV] END .....................................C=10, gamma=10; total time=   0.0s\n",
      "[CV] END .....................................C=10, gamma=10; total time=   0.0s\n",
      "[CV] END .....................................C=10, gamma=10; total time=   0.0s\n",
      "[CV] END .....................................C=10, gamma=10; total time=   0.0s\n",
      "[CV] END .....................................C=10, gamma=10; total time=   0.0s\n",
      "[CV] END ......................................C=10, gamma=5; total time=   0.0s\n",
      "[CV] END ......................................C=10, gamma=5; total time=   0.0s\n",
      "[CV] END ......................................C=10, gamma=5; total time=   0.0s\n",
      "[CV] END ......................................C=10, gamma=5; total time=   0.0s\n",
      "[CV] END ......................................C=10, gamma=5; total time=   0.0s\n",
      "[CV] END ......................................C=10, gamma=1; total time=   0.0s\n",
      "[CV] END ......................................C=10, gamma=1; total time=   0.0s\n",
      "[CV] END ......................................C=10, gamma=1; total time=   0.0s\n",
      "[CV] END ......................................C=10, gamma=1; total time=   0.0s\n",
      "[CV] END ......................................C=10, gamma=1; total time=   0.0s\n",
      "[CV] END ....................................C=10, gamma=0.5; total time=   0.0s\n",
      "[CV] END ....................................C=10, gamma=0.5; total time=   0.0s\n",
      "[CV] END ....................................C=10, gamma=0.5; total time=   0.0s\n",
      "[CV] END ....................................C=10, gamma=0.5; total time=   0.0s\n",
      "[CV] END ....................................C=10, gamma=0.5; total time=   0.0s\n",
      "[CV] END ....................................C=10, gamma=0.1; total time=   0.0s\n",
      "[CV] END ....................................C=10, gamma=0.1; total time=   0.0s\n",
      "[CV] END ....................................C=10, gamma=0.1; total time=   0.0s\n",
      "[CV] END ....................................C=10, gamma=0.1; total time=   0.0s\n",
      "[CV] END ....................................C=10, gamma=0.1; total time=   0.0s\n",
      "[CV] END ...................................C=10, gamma=0.05; total time=   0.0s\n",
      "[CV] END ...................................C=10, gamma=0.05; total time=   0.0s\n",
      "[CV] END ...................................C=10, gamma=0.05; total time=   0.0s\n",
      "[CV] END ...................................C=10, gamma=0.05; total time=   0.0s\n",
      "[CV] END ...................................C=10, gamma=0.05; total time=   0.0s\n",
      "[CV] END ...................................C=10, gamma=0.01; total time=   0.0s\n",
      "[CV] END ...................................C=10, gamma=0.01; total time=   0.0s\n",
      "[CV] END ...................................C=10, gamma=0.01; total time=   0.0s\n",
      "[CV] END ...................................C=10, gamma=0.01; total time=   0.0s\n",
      "[CV] END ...................................C=10, gamma=0.01; total time=   0.0s\n",
      "[CV] END ..................................C=10, gamma=0.001; total time=   0.0s\n",
      "[CV] END ..................................C=10, gamma=0.001; total time=   0.0s\n",
      "[CV] END ..................................C=10, gamma=0.001; total time=   0.0s\n",
      "[CV] END ..................................C=10, gamma=0.001; total time=   0.0s\n",
      "[CV] END ..................................C=10, gamma=0.001; total time=   0.0s\n",
      "[CV] END .................................C=10, gamma=0.0001; total time=   0.0s\n",
      "[CV] END .................................C=10, gamma=0.0001; total time=   0.0s\n",
      "[CV] END .................................C=10, gamma=0.0001; total time=   0.0s\n",
      "[CV] END .................................C=10, gamma=0.0001; total time=   0.0s\n",
      "[CV] END .................................C=10, gamma=0.0001; total time=   0.0s\n",
      "\n",
      " Best parameters: \n",
      " {'C': 10, 'gamma': 0.0001}\n"
     ]
    }
   ],
   "source": [
    "grid = GridSearchCV(model, param_grid, refit = True, verbose=2)\n",
    "grid.fit(X_train, y_train)\n",
    "print(\"\\n Best parameters: \\n\", grid.best_params_)"
   ]
  },
  {
   "attachments": {},
   "cell_type": "markdown",
   "metadata": {},
   "source": [
    "# **Make Predictions**"
   ]
  },
  {
   "cell_type": "code",
   "execution_count": 336,
   "metadata": {},
   "outputs": [],
   "source": [
    "y_pred = grid.predict(X_test)"
   ]
  },
  {
   "attachments": {},
   "cell_type": "markdown",
   "metadata": {},
   "source": [
    "# **Results**"
   ]
  },
  {
   "cell_type": "code",
   "execution_count": 337,
   "metadata": {},
   "outputs": [
    {
     "name": "stdout",
     "output_type": "stream",
     "text": [
      "              precision    recall  f1-score   support\n",
      "\n",
      "           0       0.88      0.90      0.89        39\n",
      "           1       0.80      0.76      0.78        21\n",
      "\n",
      "    accuracy                           0.85        60\n",
      "   macro avg       0.84      0.83      0.83        60\n",
      "weighted avg       0.85      0.85      0.85        60\n",
      "\n"
     ]
    },
    {
     "data": {
      "text/plain": [
       "[Text(0.5, 1.0, 'Confusion Matrix')]"
      ]
     },
     "execution_count": 337,
     "metadata": {},
     "output_type": "execute_result"
    },
    {
     "data": {
      "image/png": "[encoded data removed]",
      "text/plain": [
       "<Figure size 432x288 with 1 Axes>"
      ]
     },
     "metadata": {
      "needs_background": "light"
     },
     "output_type": "display_data"
    }
   ],
   "source": [
    "print(classification_report(y_test, y_pred))\n",
    "conf_mat = confusion_matrix(y_test, y_pred)\n",
    "sns.heatmap(conf_mat.T, square=True, annot=True, fmt='d', cbar=False).set(title='Confusion Matrix')"
   ]
  },
  {
   "cell_type": "code",
   "execution_count": 338,
   "metadata": {},
   "outputs": [
    {
     "data": {
      "image/png": "[encoded data removed]",
      "text/plain": [
       "<Figure size 216x360 with 1 Axes>"
      ]
     },
     "metadata": {
      "needs_background": "light"
     },
     "output_type": "display_data"
    }
   ],
   "source": [
    "plt.figure(figsize=(3, 5))\n",
    "plt.title(\"Comparison of number of Heart Failures\", size=(14))\n",
    "plt.ylabel(\"Amount\")\n",
    "plt.xlabel(\"Risk level\")\n",
    "plt.hist([y_test, y_pred], alpha=0.7, label=[\"True\", \"Predicted\"])\n",
    "plt.xticks([0, 1])\n",
    "plt.legend()\n",
    "plt.show()"
   ]
  }
 ],
 "metadata": {
  "kernelspec": {
   "display_name": "Python 3",
   "language": "python",
   "name": "python3"
  },
  "language_info": {
   "codemirror_mode": {
    "name": "ipython",
    "version": 3
   },
   "file_extension": ".py",
   "mimetype": "text/x-python",
   "name": "python",
   "nbconvert_exporter": "python",
   "pygments_lexer": "ipython3",
   "version": "3.9.12"
  },
  "orig_nbformat": 4
 },
 "nbformat": 4,
 "nbformat_minor": 2
}
